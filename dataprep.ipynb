{
 "cells": [
  {
   "cell_type": "code",
   "execution_count": 1,
   "id": "ae64fe05",
   "metadata": {},
   "outputs": [
    {
     "name": "stderr",
     "output_type": "stream",
     "text": [
      "C:\\Users\\LENOVO\\anaconda3\\lib\\site-packages\\scipy\\__init__.py:155: UserWarning: A NumPy version >=1.18.5 and <1.25.0 is required for this version of SciPy (detected version 1.26.1\n",
      "  warnings.warn(f\"A NumPy version >={np_minversion} and <{np_maxversion}\"\n"
     ]
    }
   ],
   "source": [
    "import numpy as np\n",
    "import pandas as pd\n",
    "from sklearn.decomposition import PCA\n",
    "from sklearn.preprocessing import StandardScaler\n",
    "import json"
   ]
  },
  {
   "cell_type": "code",
   "execution_count": 5,
   "id": "16c52419",
   "metadata": {},
   "outputs": [],
   "source": [
    "# here you add your datas \n",
    "df1=pd.read_csv(\"D:\\\\indexation\\\\cbir\\\\output_data1000.csv\")\n",
    "df2=pd.read_csv(\"D:\\\\indexation\\\\cbir\\\\output_databacc.csv\")\n",
    "df3=pd.read_csv(\"D:\\\\indexation\\\\cbir\\\\output_datagad.csv\")"
   ]
  },
  {
   "cell_type": "code",
   "execution_count": 6,
   "id": "8e1f0212",
   "metadata": {},
   "outputs": [],
   "source": [
    "data = pd.concat([df1, df2, df3])"
   ]
  },
  {
   "cell_type": "code",
   "execution_count": 7,
   "id": "9fa55e4d",
   "metadata": {},
   "outputs": [
    {
     "name": "stdout",
     "output_type": "stream",
     "text": [
      "<class 'pandas.core.frame.DataFrame'>\n",
      "RangeIndex: 6018 entries, 0 to 6017\n",
      "Data columns (total 7 columns):\n",
      " #   Column         Non-Null Count  Dtype  \n",
      "---  ------         --------------  -----  \n",
      " 0   Unnamed: 0     5952 non-null   float64\n",
      " 1   ImageID        6018 non-null   object \n",
      " 2   OriginalURL    6018 non-null   object \n",
      " 3   OriginalSize   6018 non-null   object \n",
      " 4   OriginalMD5    6018 non-null   object \n",
      " 5   tags           6018 non-null   object \n",
      " 6   Feature_array  6018 non-null   object \n",
      "dtypes: float64(1), object(6)\n",
      "memory usage: 329.2+ KB\n"
     ]
    }
   ],
   "source": [
    "df1.info()"
   ]
  },
  {
   "cell_type": "code",
   "execution_count": 8,
   "id": "14ee37c1",
   "metadata": {},
   "outputs": [
    {
     "name": "stdout",
     "output_type": "stream",
     "text": [
      "<class 'pandas.core.frame.DataFrame'>\n",
      "RangeIndex: 13129 entries, 0 to 13128\n",
      "Data columns (total 7 columns):\n",
      " #   Column         Non-Null Count  Dtype  \n",
      "---  ------         --------------  -----  \n",
      " 0   Unnamed: 0     13000 non-null  float64\n",
      " 1   ImageID        13129 non-null  object \n",
      " 2   OriginalURL    13129 non-null  object \n",
      " 3   OriginalSize   13129 non-null  object \n",
      " 4   OriginalMD5    13129 non-null  object \n",
      " 5   tags           13129 non-null  object \n",
      " 6   Feature_array  11604 non-null  object \n",
      "dtypes: float64(1), object(6)\n",
      "memory usage: 718.1+ KB\n"
     ]
    }
   ],
   "source": [
    "df2.info()"
   ]
  },
  {
   "cell_type": "code",
   "execution_count": 9,
   "id": "9e3ac668",
   "metadata": {},
   "outputs": [
    {
     "name": "stdout",
     "output_type": "stream",
     "text": [
      "<class 'pandas.core.frame.DataFrame'>\n",
      "RangeIndex: 17573 entries, 0 to 17572\n",
      "Data columns (total 7 columns):\n",
      " #   Column         Non-Null Count  Dtype  \n",
      "---  ------         --------------  -----  \n",
      " 0   Unnamed: 0     17400 non-null  float64\n",
      " 1   ImageID        17573 non-null  object \n",
      " 2   OriginalURL    17573 non-null  object \n",
      " 3   OriginalSize   17573 non-null  object \n",
      " 4   OriginalMD5    17573 non-null  object \n",
      " 5   tags           17573 non-null  object \n",
      " 6   Feature_array  15604 non-null  object \n",
      "dtypes: float64(1), object(6)\n",
      "memory usage: 961.1+ KB\n"
     ]
    }
   ],
   "source": [
    "df3.info()"
   ]
  },
  {
   "cell_type": "code",
   "execution_count": 20,
   "id": "2ba99c19",
   "metadata": {},
   "outputs": [
    {
     "name": "stdout",
     "output_type": "stream",
     "text": [
      "<class 'pandas.core.frame.DataFrame'>\n",
      "Int64Index: 33226 entries, 0 to 17572\n",
      "Data columns (total 3 columns):\n",
      " #   Column    Non-Null Count  Dtype \n",
      "---  ------    --------------  ----- \n",
      " 0   ImageURL  33226 non-null  object\n",
      " 1   Tags      33226 non-null  object\n",
      " 2   Vector    33226 non-null  object\n",
      "dtypes: object(3)\n",
      "memory usage: 1.0+ MB\n"
     ]
    }
   ],
   "source": [
    "data.info()"
   ]
  },
  {
   "cell_type": "code",
   "execution_count": null,
   "id": "916e40d9",
   "metadata": {},
   "outputs": [],
   "source": []
  },
  {
   "cell_type": "code",
   "execution_count": 11,
   "id": "d9ae61eb",
   "metadata": {},
   "outputs": [],
   "source": [
    "data.dropna(subset=['Feature_array'],inplace=True)"
   ]
  },
  {
   "cell_type": "code",
   "execution_count": 12,
   "id": "cab392e2",
   "metadata": {},
   "outputs": [],
   "source": [
    "new_column_names = {\n",
    "    'Unnamed: 0': 'imageId',\n",
    "    'ImageID':'OriginalMDS',\n",
    "    'OriginalURL':'ImageURL',\n",
    "    'OriginalSize':'Size' ,\n",
    "    'tags':'Tags',\n",
    "    'Feature_array':'Vector'\n",
    "}"
   ]
  },
  {
   "cell_type": "code",
   "execution_count": 14,
   "id": "bf394064",
   "metadata": {},
   "outputs": [],
   "source": [
    "data.rename(columns=new_column_names, inplace=True)"
   ]
  },
  {
   "cell_type": "code",
   "execution_count": 19,
   "id": "1ff1f29a",
   "metadata": {},
   "outputs": [],
   "source": [
    "data.drop(columns=['OriginalMD5'],inplace=True)"
   ]
  },
  {
   "cell_type": "code",
   "execution_count": 21,
   "id": "741872db",
   "metadata": {},
   "outputs": [],
   "source": [
    "output_csv = \"D:\\\\indexation\\\\cbir\\\\output_data1002.csv\"\n",
    "data.to_csv(output_csv,index=False)"
   ]
  },
  {
   "cell_type": "code",
   "execution_count": null,
   "id": "89caab53",
   "metadata": {},
   "outputs": [],
   "source": []
  }
 ],
 "metadata": {
  "kernelspec": {
   "display_name": "Python 3 (ipykernel)",
   "language": "python",
   "name": "python3"
  },
  "language_info": {
   "codemirror_mode": {
    "name": "ipython",
    "version": 3
   },
   "file_extension": ".py",
   "mimetype": "text/x-python",
   "name": "python",
   "nbconvert_exporter": "python",
   "pygments_lexer": "ipython3",
   "version": "3.9.13"
  }
 },
 "nbformat": 4,
 "nbformat_minor": 5
}
